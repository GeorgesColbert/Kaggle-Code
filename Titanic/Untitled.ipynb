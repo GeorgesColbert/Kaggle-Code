{
 "cells": [
  {
   "cell_type": "code",
   "execution_count": 289,
   "metadata": {},
   "outputs": [],
   "source": [
    "import xgboost as xgb\n",
    "from xgboost.sklearn import XGBClassifier\n",
    "import numpy as np\n",
    "import pandas as pd\n",
    "from sklearn.metrics import accuracy_score\n",
    "from sklearn.pipeline import Pipeline\n",
    "from sklearn import preprocessing\n",
    "from sklearn.model_selection import train_test_split\n",
    "from sklearn.model_selection import GridSearchCV\n",
    "from sklearn.metrics import mean_squared_error\n",
    "import matplotlib.pyplot as plt\n",
    "import seaborn as sns\n",
    "%matplotlib inline\n",
    "sns.set()\n",
    "\n",
    "\n",
    "\n"
   ]
  },
  {
   "cell_type": "code",
   "execution_count": 290,
   "metadata": {},
   "outputs": [],
   "source": [
    "t_train = pd.read_csv(\"train.csv\")\n",
    "t_test = pd.read_csv(\"test.csv\")"
   ]
  },
  {
   "cell_type": "code",
   "execution_count": 377,
   "metadata": {},
   "outputs": [],
   "source": []
  },
  {
   "cell_type": "raw",
   "metadata": {},
   "source": [
    "The Survival Guide Translated in Python"
   ]
  },
  {
   "cell_type": "raw",
   "metadata": {},
   "source": [
    "Data Cleaning"
   ]
  },
  {
   "cell_type": "code",
   "execution_count": 297,
   "metadata": {},
   "outputs": [
    {
     "data": {
      "text/plain": [
       "Index([], dtype='object')"
      ]
     },
     "execution_count": 297,
     "metadata": {},
     "output_type": "execute_result"
    }
   ],
   "source": [
    "### Checking which columns have NA values\n",
    "#t_train.isnull().any()  returns Boolean list of columns with NA or not\n",
    "\n",
    "\n",
    "t_train.columns[t_train.isnull().any()]\n"
   ]
  },
  {
   "cell_type": "code",
   "execution_count": 292,
   "metadata": {},
   "outputs": [
    {
     "data": {
      "text/plain": [
       "Age         177\n",
       "Cabin       687\n",
       "Embarked      2\n",
       "dtype: int64"
      ]
     },
     "execution_count": 292,
     "metadata": {},
     "output_type": "execute_result"
    }
   ],
   "source": [
    "## Number of NA values in columns with NAs\n",
    "\n",
    "\n",
    "t_train[['Age','Cabin','Embarked']].isnull().sum()"
   ]
  },
  {
   "cell_type": "code",
   "execution_count": 293,
   "metadata": {},
   "outputs": [],
   "source": [
    "# Nullify Cabin, Drop  Embarked NA rows, Give median to Age NA values\n",
    "\n",
    "\n",
    "t_train.drop('Cabin', axis=1, inplace=True)\n",
    "\n",
    "\n"
   ]
  },
  {
   "cell_type": "code",
   "execution_count": 294,
   "metadata": {},
   "outputs": [],
   "source": [
    "#Drop Embarked NA rows\n",
    "t_train = t_train[t_train['Embarked'].notnull()]"
   ]
  },
  {
   "cell_type": "code",
   "execution_count": 295,
   "metadata": {},
   "outputs": [
    {
     "data": {
      "text/plain": [
       "0"
      ]
     },
     "execution_count": 295,
     "metadata": {},
     "output_type": "execute_result"
    }
   ],
   "source": [
    "#Check if  Embarked has na\n",
    "\n",
    "t_train['Embarked'].isnull().sum()"
   ]
  },
  {
   "cell_type": "code",
   "execution_count": 298,
   "metadata": {},
   "outputs": [],
   "source": [
    "## Give Age na values median value\n",
    "\n",
    "med = t_train['Age'].median()\n",
    "\n",
    "\n",
    "t_train['Age'] = t_train['Age'].fillna(value=med)\n",
    "\n"
   ]
  },
  {
   "cell_type": "code",
   "execution_count": null,
   "metadata": {},
   "outputs": [],
   "source": []
  },
  {
   "cell_type": "raw",
   "metadata": {},
   "source": [
    "FEATURE ENGINEERING"
   ]
  },
  {
   "cell_type": "code",
   "execution_count": 299,
   "metadata": {},
   "outputs": [],
   "source": [
    "#Family unit or not\n",
    "\n",
    "def nuking (row):\n",
    "    if row['SibSp'] >= 1 and row['Parch']>=1:\n",
    "      return \"FM\"\n",
    "    else:\n",
    "        return \"Not\"\n",
    "    \n",
    "\n",
    "\n",
    "t_train['NUKEFM_or_Not'] = t_train.apply (lambda row: nuking (row),axis=1)"
   ]
  },
  {
   "cell_type": "code",
   "execution_count": 300,
   "metadata": {},
   "outputs": [],
   "source": [
    "########## create a variable that designates if they are a Miss or Not\n",
    "# Turn Age column into float \n",
    "\n",
    "#def f(x):\n",
    "#    try:\n",
    "#        return np.float(x)\n",
    "#    except:\n",
    "#        return np.nan\n",
    "\n",
    "#t_train['Age'] = t_train['Age'].apply(f)\n",
    "\n",
    "\n",
    "def missing (row):\n",
    "    if row['Age'] >= 18 and row['Name'].find(\"Miss\") != -1:\n",
    "      return \"Miss\"\n",
    "    else:\n",
    "      return \"Not\"\n",
    "    \n",
    "\n",
    "    #if row['Age'] >= 18 and row['Name'].find(\"Miss\") != -1:\n",
    "     \n",
    "#_train['Age']= pd.to_numeric(t_train['Age'], errors='coerce').fillna(0)\n",
    "\n",
    "\n",
    "t_train['Miss_or_Not'] = t_train.apply (lambda row: missing (row),axis=1)\n",
    "#t_train.apply (lambda row: missing (row),axis=1)\n",
    "\n",
    "\n",
    "\n"
   ]
  },
  {
   "cell_type": "code",
   "execution_count": 301,
   "metadata": {},
   "outputs": [],
   "source": [
    "### # Create new column  family_size\n",
    "def sizing(row):\n",
    "    len = row['SibSp'] + row['Parch'] + 1\n",
    "    return len\n",
    "    \n",
    "t_train['family_size']=t_train.apply (lambda row: sizing (row),axis=1)"
   ]
  },
  {
   "cell_type": "code",
   "execution_count": 302,
   "metadata": {},
   "outputs": [],
   "source": [
    "## turn Survived into Categorical Variable\n",
    "def surving (row):\n",
    "    if row['Survived'] == 1 :\n",
    "      return \"Yes\"\n",
    "    else:\n",
    "        return \"No\"\n",
    "    \n",
    "\n",
    "\n",
    "t_train['Survived'] = t_train.apply (lambda row: surving (row),axis=1)"
   ]
  },
  {
   "cell_type": "code",
   "execution_count": 303,
   "metadata": {},
   "outputs": [],
   "source": [
    "## turn PClass into Categorical Variable\n",
    "def classing (row):\n",
    "    if row['Pclass'] == 1 :\n",
    "      return \"First\"\n",
    "    elif row['Pclass'] == 2:\n",
    "        return \"Second\"\n",
    "    else:\n",
    "        return\"Third\"\n",
    "    \n",
    "\n",
    "\n",
    "t_train['Pclass'] = t_train.apply (lambda row: classing (row),axis=1)"
   ]
  },
  {
   "cell_type": "code",
   "execution_count": 304,
   "metadata": {},
   "outputs": [
    {
     "data": {
      "text/plain": [
       "Index(['First', 'Second', 'Third'], dtype='object')"
      ]
     },
     "execution_count": 304,
     "metadata": {},
     "output_type": "execute_result"
    }
   ],
   "source": [
    "t_train['Pclass'], uniclass = pd.factorize(t_train['Pclass'], sort=True)\n",
    "uniclass                            "
   ]
  },
  {
   "cell_type": "code",
   "execution_count": 305,
   "metadata": {},
   "outputs": [],
   "source": [
    "\n",
    "##\n",
    "t_train['Survived'], uniques = pd.factorize(t_train['Survived']) \n",
    "\n",
    "t_train['Sex'], unisex = pd.factorize(t_train['Sex'])\n",
    "t_train['Embarked'], uniembar = pd.factorize(t_train['Embarked'])\n",
    "t_train['Miss_or_Not'], unimiss = pd.factorize(t_train['Miss_or_Not'])\n",
    "t_train['NUKEFM_or_Not'], uninuke = pd.factorize(t_train['NUKEFM_or_Not'])"
   ]
  },
  {
   "cell_type": "code",
   "execution_count": 335,
   "metadata": {},
   "outputs": [
    {
     "name": "stdout",
     "output_type": "stream",
     "text": [
      "<class 'pandas.core.frame.DataFrame'>\n",
      "Int64Index: 889 entries, 0 to 890\n",
      "Data columns (total 11 columns):\n",
      "Survived         889 non-null int64\n",
      "Pclass           889 non-null int64\n",
      "Sex              889 non-null int64\n",
      "Age              889 non-null float64\n",
      "SibSp            889 non-null int64\n",
      "Parch            889 non-null int64\n",
      "Fare             889 non-null float64\n",
      "Embarked         889 non-null int64\n",
      "NUKEFM_or_Not    889 non-null int64\n",
      "Miss_or_Not      889 non-null int64\n",
      "family_size      889 non-null int64\n",
      "dtypes: float64(2), int64(9)\n",
      "memory usage: 83.3 KB\n"
     ]
    },
    {
     "data": {
      "text/plain": [
       "Index(['First', 'Second', 'Third'], dtype='object')"
      ]
     },
     "execution_count": 335,
     "metadata": {},
     "output_type": "execute_result"
    }
   ],
   "source": [
    "t_train.info()\n",
    "uniclass\n"
   ]
  },
  {
   "cell_type": "code",
   "execution_count": 355,
   "metadata": {},
   "outputs": [
    {
     "data": {
      "text/html": [
       "<div>\n",
       "<style>\n",
       "    .dataframe thead tr:only-child th {\n",
       "        text-align: right;\n",
       "    }\n",
       "\n",
       "    .dataframe thead th {\n",
       "        text-align: left;\n",
       "    }\n",
       "\n",
       "    .dataframe tbody tr th {\n",
       "        vertical-align: top;\n",
       "    }\n",
       "</style>\n",
       "<table border=\"1\" class=\"dataframe\">\n",
       "  <thead>\n",
       "    <tr style=\"text-align: right;\">\n",
       "      <th></th>\n",
       "      <th>Survived</th>\n",
       "      <th>Pclass</th>\n",
       "      <th>Sex</th>\n",
       "      <th>Age</th>\n",
       "      <th>SibSp</th>\n",
       "      <th>Parch</th>\n",
       "      <th>Fare</th>\n",
       "      <th>Embarked</th>\n",
       "      <th>NUKEFM_or_Not</th>\n",
       "      <th>Miss_or_Not</th>\n",
       "      <th>family_size</th>\n",
       "    </tr>\n",
       "  </thead>\n",
       "  <tbody>\n",
       "    <tr>\n",
       "      <th>0</th>\n",
       "      <td>0</td>\n",
       "      <td>2</td>\n",
       "      <td>0</td>\n",
       "      <td>22.0</td>\n",
       "      <td>1</td>\n",
       "      <td>0</td>\n",
       "      <td>7.2500</td>\n",
       "      <td>0</td>\n",
       "      <td>0</td>\n",
       "      <td>0</td>\n",
       "      <td>2</td>\n",
       "    </tr>\n",
       "    <tr>\n",
       "      <th>1</th>\n",
       "      <td>1</td>\n",
       "      <td>0</td>\n",
       "      <td>1</td>\n",
       "      <td>38.0</td>\n",
       "      <td>1</td>\n",
       "      <td>0</td>\n",
       "      <td>71.2833</td>\n",
       "      <td>1</td>\n",
       "      <td>0</td>\n",
       "      <td>0</td>\n",
       "      <td>2</td>\n",
       "    </tr>\n",
       "    <tr>\n",
       "      <th>2</th>\n",
       "      <td>1</td>\n",
       "      <td>2</td>\n",
       "      <td>1</td>\n",
       "      <td>26.0</td>\n",
       "      <td>0</td>\n",
       "      <td>0</td>\n",
       "      <td>7.9250</td>\n",
       "      <td>0</td>\n",
       "      <td>0</td>\n",
       "      <td>1</td>\n",
       "      <td>1</td>\n",
       "    </tr>\n",
       "    <tr>\n",
       "      <th>3</th>\n",
       "      <td>1</td>\n",
       "      <td>0</td>\n",
       "      <td>1</td>\n",
       "      <td>35.0</td>\n",
       "      <td>1</td>\n",
       "      <td>0</td>\n",
       "      <td>53.1000</td>\n",
       "      <td>0</td>\n",
       "      <td>0</td>\n",
       "      <td>0</td>\n",
       "      <td>2</td>\n",
       "    </tr>\n",
       "    <tr>\n",
       "      <th>4</th>\n",
       "      <td>0</td>\n",
       "      <td>2</td>\n",
       "      <td>0</td>\n",
       "      <td>35.0</td>\n",
       "      <td>0</td>\n",
       "      <td>0</td>\n",
       "      <td>8.0500</td>\n",
       "      <td>0</td>\n",
       "      <td>0</td>\n",
       "      <td>0</td>\n",
       "      <td>1</td>\n",
       "    </tr>\n",
       "    <tr>\n",
       "      <th>5</th>\n",
       "      <td>0</td>\n",
       "      <td>2</td>\n",
       "      <td>0</td>\n",
       "      <td>28.0</td>\n",
       "      <td>0</td>\n",
       "      <td>0</td>\n",
       "      <td>8.4583</td>\n",
       "      <td>2</td>\n",
       "      <td>0</td>\n",
       "      <td>0</td>\n",
       "      <td>1</td>\n",
       "    </tr>\n",
       "    <tr>\n",
       "      <th>6</th>\n",
       "      <td>0</td>\n",
       "      <td>0</td>\n",
       "      <td>0</td>\n",
       "      <td>54.0</td>\n",
       "      <td>0</td>\n",
       "      <td>0</td>\n",
       "      <td>51.8625</td>\n",
       "      <td>0</td>\n",
       "      <td>0</td>\n",
       "      <td>0</td>\n",
       "      <td>1</td>\n",
       "    </tr>\n",
       "    <tr>\n",
       "      <th>7</th>\n",
       "      <td>0</td>\n",
       "      <td>2</td>\n",
       "      <td>0</td>\n",
       "      <td>2.0</td>\n",
       "      <td>3</td>\n",
       "      <td>1</td>\n",
       "      <td>21.0750</td>\n",
       "      <td>0</td>\n",
       "      <td>1</td>\n",
       "      <td>0</td>\n",
       "      <td>5</td>\n",
       "    </tr>\n",
       "    <tr>\n",
       "      <th>8</th>\n",
       "      <td>1</td>\n",
       "      <td>2</td>\n",
       "      <td>1</td>\n",
       "      <td>27.0</td>\n",
       "      <td>0</td>\n",
       "      <td>2</td>\n",
       "      <td>11.1333</td>\n",
       "      <td>0</td>\n",
       "      <td>0</td>\n",
       "      <td>0</td>\n",
       "      <td>3</td>\n",
       "    </tr>\n",
       "    <tr>\n",
       "      <th>9</th>\n",
       "      <td>1</td>\n",
       "      <td>1</td>\n",
       "      <td>1</td>\n",
       "      <td>14.0</td>\n",
       "      <td>1</td>\n",
       "      <td>0</td>\n",
       "      <td>30.0708</td>\n",
       "      <td>1</td>\n",
       "      <td>0</td>\n",
       "      <td>0</td>\n",
       "      <td>2</td>\n",
       "    </tr>\n",
       "  </tbody>\n",
       "</table>\n",
       "</div>"
      ],
      "text/plain": [
       "   Survived  Pclass  Sex   Age  SibSp  Parch     Fare  Embarked  \\\n",
       "0         0       2    0  22.0      1      0   7.2500         0   \n",
       "1         1       0    1  38.0      1      0  71.2833         1   \n",
       "2         1       2    1  26.0      0      0   7.9250         0   \n",
       "3         1       0    1  35.0      1      0  53.1000         0   \n",
       "4         0       2    0  35.0      0      0   8.0500         0   \n",
       "5         0       2    0  28.0      0      0   8.4583         2   \n",
       "6         0       0    0  54.0      0      0  51.8625         0   \n",
       "7         0       2    0   2.0      3      1  21.0750         0   \n",
       "8         1       2    1  27.0      0      2  11.1333         0   \n",
       "9         1       1    1  14.0      1      0  30.0708         1   \n",
       "\n",
       "   NUKEFM_or_Not  Miss_or_Not  family_size  \n",
       "0              0            0            2  \n",
       "1              0            0            2  \n",
       "2              0            1            1  \n",
       "3              0            0            2  \n",
       "4              0            0            1  \n",
       "5              0            0            1  \n",
       "6              0            0            1  \n",
       "7              1            0            5  \n",
       "8              0            0            3  \n",
       "9              0            0            2  "
      ]
     },
     "execution_count": 355,
     "metadata": {},
     "output_type": "execute_result"
    }
   ],
   "source": [
    "t_train.head(10)"
   ]
  },
  {
   "cell_type": "raw",
   "metadata": {},
   "source": [
    "Machine Learning Extreme Gradient Boosting"
   ]
  },
  {
   "cell_type": "code",
   "execution_count": 308,
   "metadata": {},
   "outputs": [],
   "source": [
    "# First remove Name and Ticket collumns\n",
    "t_train.drop('Name', axis=1, inplace=True)\n",
    "t_train.drop('Ticket', axis=1, inplace=True)\n",
    "t_train.drop('PassengerId', axis=1, inplace=True)"
   ]
  },
  {
   "cell_type": "code",
   "execution_count": 309,
   "metadata": {},
   "outputs": [],
   "source": [
    "import xgboost as xgb"
   ]
  },
  {
   "cell_type": "code",
   "execution_count": 336,
   "metadata": {},
   "outputs": [],
   "source": [
    "\n",
    "#Create training and test datasets\n",
    "X_train = t_train.drop(\"Survived\", axis = 1)\n",
    "y_train = t_train['Survived'].values\n",
    "#y_train = y_train.reshape(-1, 1)\n",
    "#X_train, X_test, y_train, y_test = train_test_split(X, y,test_size = 0.2, random_state=42)\n",
    "X_test = t_test\n",
    "\n"
   ]
  },
  {
   "cell_type": "code",
   "execution_count": 337,
   "metadata": {},
   "outputs": [
    {
     "data": {
      "text/plain": [
       "(889,)"
      ]
     },
     "execution_count": 337,
     "metadata": {},
     "output_type": "execute_result"
    }
   ],
   "source": [
    "y_train.shape\n",
    "\n",
    "###\n",
    "#X_train.shape"
   ]
  },
  {
   "cell_type": "code",
   "execution_count": 338,
   "metadata": {},
   "outputs": [],
   "source": [
    "#Convert the training and testing sets into DMatrixes\n",
    "#DMatrix is the recommended class in xgboost.\n",
    "\n",
    "DM_train = xgb.DMatrix(data = X_train, \n",
    "                       label = y_train)  \n",
    "#DM_test =  xgb.DMatrix(t_test)"
   ]
  },
  {
   "cell_type": "raw",
   "metadata": {},
   "source": [
    "In this post, I will optimize only three of the parameters, 'colsample_bytree' which determines % of features used per tree, 'n_estimators' which identifies number of estimators (base learners), 'max_depth' which determines max depth per tree."
   ]
  },
  {
   "cell_type": "code",
   "execution_count": 345,
   "metadata": {},
   "outputs": [],
   "source": [
    "\n",
    "#Parameters for grid search\n",
    "\n",
    "gbm_param_grid = {\n",
    "     'colsample_bytree': np.linspace(0.5, 1, 5),\n",
    "     'n_estimators':[100, 200],\n",
    "     'max_depth': [5, 8, 10, 11, 15],      \n",
    "}\n",
    "\n",
    "#Instantiate the classifier\n",
    "gbm = xgb.XGBClassifier()"
   ]
  },
  {
   "cell_type": "code",
   "execution_count": 347,
   "metadata": {},
   "outputs": [],
   "source": [
    "\n",
    "\n",
    "#grid_mse = GridSearchCV(estimator = gbm, param_grid = gbm_param_grid, scoring = 'roc_auc',cv = 5, verbose = 1)\n",
    "grid_mse2 = GridSearchCV(estimator = gbm, param_grid = gbm_param_grid, scoring = 'roc_auc',cv = 5, verbose = 1)"
   ]
  },
  {
   "cell_type": "code",
   "execution_count": 344,
   "metadata": {},
   "outputs": [
    {
     "name": "stdout",
     "output_type": "stream",
     "text": [
      "Fitting 5 folds for each of 250 candidates, totalling 1250 fits\n"
     ]
    },
    {
     "name": "stderr",
     "output_type": "stream",
     "text": [
      "Exception ignored in: <bound method DMatrix.__del__ of <xgboost.core.DMatrix object at 0x114640828>>\n",
      "Traceback (most recent call last):\n",
      "  File \"/Users/georgesericcolbert/anaconda/lib/python3.6/site-packages/xgboost/core.py\", line 366, in __del__\n",
      "    if self.handle is not None:\n",
      "AttributeError: 'DMatrix' object has no attribute 'handle'\n"
     ]
    },
    {
     "name": "stdout",
     "output_type": "stream",
     "text": [
      "Best parameters found:  {'colsample_bytree': 0.75, 'max_depth': 5, 'n_estimators': 100, 'subsample': 0.625}\n",
      "Lowest RMSE found:  0.936288146952\n"
     ]
    },
    {
     "name": "stderr",
     "output_type": "stream",
     "text": [
      "[Parallel(n_jobs=1)]: Done 1250 out of 1250 | elapsed:  2.0min finished\n"
     ]
    }
   ],
   "source": [
    "grid_mse.fit(X_train, y_train)\n",
    "print(\"Best parameters found: \",grid_mse.best_params_)\n",
    "print(\"Lowest RMSE found: \", np.sqrt(np.abs(grid_mse.best_score_)))"
   ]
  },
  {
   "cell_type": "code",
   "execution_count": 348,
   "metadata": {},
   "outputs": [
    {
     "name": "stdout",
     "output_type": "stream",
     "text": [
      "Fitting 5 folds for each of 50 candidates, totalling 250 fits\n",
      "Best parameters found:  {'colsample_bytree': 0.5, 'max_depth': 15, 'n_estimators': 100}\n",
      "Lowest RMSE found:  0.933472084237\n"
     ]
    },
    {
     "name": "stderr",
     "output_type": "stream",
     "text": [
      "[Parallel(n_jobs=1)]: Done 250 out of 250 | elapsed:   24.6s finished\n"
     ]
    }
   ],
   "source": [
    "grid_mse2.fit(X_train, y_train)\n",
    "print(\"Best parameters found: \",grid_mse2.best_params_)\n",
    "print(\"Lowest RMSE found: \", np.sqrt(np.abs(grid_mse2.best_score_)))"
   ]
  },
  {
   "cell_type": "code",
   "execution_count": 395,
   "metadata": {},
   "outputs": [],
   "source": [
    "t_test = pd.read_csv(\"test.csv\")"
   ]
  },
  {
   "cell_type": "raw",
   "metadata": {},
   "source": [
    "Prep test Dataset"
   ]
  },
  {
   "cell_type": "code",
   "execution_count": 398,
   "metadata": {},
   "outputs": [
    {
     "data": {
      "text/plain": [
       "PassengerId    0\n",
       "Pclass         0\n",
       "Name           0\n",
       "Sex            0\n",
       "Age            0\n",
       "SibSp          0\n",
       "Parch          0\n",
       "Ticket         0\n",
       "Fare           0\n",
       "Embarked       0\n",
       "dtype: int64"
      ]
     },
     "execution_count": 398,
     "metadata": {},
     "output_type": "execute_result"
    }
   ],
   "source": [
    "### Checking which columns have NA values\n",
    "#t_train.isnull().any()  returns Boolean list of columns with NA or not\n",
    "\n",
    "\n",
    "#t_test.columns[t_test.isnull().sum()]\n",
    "t_test.isnull().sum()"
   ]
  },
  {
   "cell_type": "code",
   "execution_count": 397,
   "metadata": {},
   "outputs": [],
   "source": [
    "# Drop Cabin\n",
    "t_test.drop('Cabin', axis=1, inplace=True)\n",
    "\n",
    "#Drop Fare NA rows\n",
    "med = t_test['Fare'].median()\n",
    "\n",
    "\n",
    "t_test['Fare'] = t_test['Fare'].fillna(value=med)\n",
    "\n",
    "## Median Age\n",
    "\n",
    "med = t_test['Age'].median()\n",
    "\n",
    "\n",
    "t_test['Age'] = t_test['Age'].fillna(value=med)\n",
    "\n",
    "\n",
    "\n",
    "\n"
   ]
  },
  {
   "cell_type": "code",
   "execution_count": 399,
   "metadata": {},
   "outputs": [],
   "source": [
    "\n",
    "t_test['NUKEFM_or_Not'] = t_test.apply (lambda row: nuking (row),axis=1)\n",
    "\n",
    "t_test['Miss_or_Not'] = t_test.apply (lambda row: missing (row),axis=1)\n",
    "\n",
    "t_test['family_size']=t_test.apply (lambda row: sizing (row),axis=1)\n",
    "\n",
    "\n",
    "\n",
    "\n",
    "t_test['Pclass'] = t_test.apply (lambda row: classing (row),axis=1)\n",
    "\n",
    "p_Id = t_test['PassengerId']\n",
    "#  remove Name, Ticket & PassengerID collumns\n",
    "t_test.drop('Name', axis=1, inplace=True)\n",
    "t_test.drop('Ticket', axis=1, inplace=True)\n",
    "t_test.drop('PassengerId', axis=1, inplace=True)"
   ]
  },
  {
   "cell_type": "code",
   "execution_count": 400,
   "metadata": {},
   "outputs": [],
   "source": [
    "\n",
    "\n",
    "t_test['Pclass'], uniclass = pd.factorize(t_test['Pclass'], sort=True)\n",
    "\n",
    "\n",
    "\n",
    "\n",
    "t_test['Sex'], unisex = pd.factorize(t_test['Sex'])\n",
    "t_test['Embarked'], uniembar = pd.factorize(t_test['Embarked'])\n",
    "t_test['Miss_or_Not'], unimiss = pd.factorize(t_test['Miss_or_Not'])\n",
    "t_test['NUKEFM_or_Not'], uninuke = pd.factorize(t_test['NUKEFM_or_Not'])\n",
    "\n"
   ]
  },
  {
   "cell_type": "code",
   "execution_count": 401,
   "metadata": {},
   "outputs": [
    {
     "data": {
      "text/html": [
       "<div>\n",
       "<style>\n",
       "    .dataframe thead tr:only-child th {\n",
       "        text-align: right;\n",
       "    }\n",
       "\n",
       "    .dataframe thead th {\n",
       "        text-align: left;\n",
       "    }\n",
       "\n",
       "    .dataframe tbody tr th {\n",
       "        vertical-align: top;\n",
       "    }\n",
       "</style>\n",
       "<table border=\"1\" class=\"dataframe\">\n",
       "  <thead>\n",
       "    <tr style=\"text-align: right;\">\n",
       "      <th></th>\n",
       "      <th>Pclass</th>\n",
       "      <th>Sex</th>\n",
       "      <th>Age</th>\n",
       "      <th>SibSp</th>\n",
       "      <th>Parch</th>\n",
       "      <th>Fare</th>\n",
       "      <th>Embarked</th>\n",
       "      <th>NUKEFM_or_Not</th>\n",
       "      <th>Miss_or_Not</th>\n",
       "      <th>family_size</th>\n",
       "    </tr>\n",
       "  </thead>\n",
       "  <tbody>\n",
       "    <tr>\n",
       "      <th>0</th>\n",
       "      <td>2</td>\n",
       "      <td>0</td>\n",
       "      <td>34.5</td>\n",
       "      <td>0</td>\n",
       "      <td>0</td>\n",
       "      <td>7.8292</td>\n",
       "      <td>0</td>\n",
       "      <td>0</td>\n",
       "      <td>0</td>\n",
       "      <td>1</td>\n",
       "    </tr>\n",
       "    <tr>\n",
       "      <th>1</th>\n",
       "      <td>2</td>\n",
       "      <td>1</td>\n",
       "      <td>47.0</td>\n",
       "      <td>1</td>\n",
       "      <td>0</td>\n",
       "      <td>7.0000</td>\n",
       "      <td>1</td>\n",
       "      <td>0</td>\n",
       "      <td>0</td>\n",
       "      <td>2</td>\n",
       "    </tr>\n",
       "    <tr>\n",
       "      <th>2</th>\n",
       "      <td>1</td>\n",
       "      <td>0</td>\n",
       "      <td>62.0</td>\n",
       "      <td>0</td>\n",
       "      <td>0</td>\n",
       "      <td>9.6875</td>\n",
       "      <td>0</td>\n",
       "      <td>0</td>\n",
       "      <td>0</td>\n",
       "      <td>1</td>\n",
       "    </tr>\n",
       "    <tr>\n",
       "      <th>3</th>\n",
       "      <td>2</td>\n",
       "      <td>0</td>\n",
       "      <td>27.0</td>\n",
       "      <td>0</td>\n",
       "      <td>0</td>\n",
       "      <td>8.6625</td>\n",
       "      <td>1</td>\n",
       "      <td>0</td>\n",
       "      <td>0</td>\n",
       "      <td>1</td>\n",
       "    </tr>\n",
       "    <tr>\n",
       "      <th>4</th>\n",
       "      <td>2</td>\n",
       "      <td>1</td>\n",
       "      <td>22.0</td>\n",
       "      <td>1</td>\n",
       "      <td>1</td>\n",
       "      <td>12.2875</td>\n",
       "      <td>1</td>\n",
       "      <td>1</td>\n",
       "      <td>0</td>\n",
       "      <td>3</td>\n",
       "    </tr>\n",
       "  </tbody>\n",
       "</table>\n",
       "</div>"
      ],
      "text/plain": [
       "   Pclass  Sex   Age  SibSp  Parch     Fare  Embarked  NUKEFM_or_Not  \\\n",
       "0       2    0  34.5      0      0   7.8292         0              0   \n",
       "1       2    1  47.0      1      0   7.0000         1              0   \n",
       "2       1    0  62.0      0      0   9.6875         0              0   \n",
       "3       2    0  27.0      0      0   8.6625         1              0   \n",
       "4       2    1  22.0      1      1  12.2875         1              1   \n",
       "\n",
       "   Miss_or_Not  family_size  \n",
       "0            0            1  \n",
       "1            0            2  \n",
       "2            0            1  \n",
       "3            0            1  \n",
       "4            0            3  "
      ]
     },
     "execution_count": 401,
     "metadata": {},
     "output_type": "execute_result"
    }
   ],
   "source": [
    "t_test.head()\n"
   ]
  },
  {
   "cell_type": "raw",
   "metadata": {},
   "source": [
    "Prediction"
   ]
  },
  {
   "cell_type": "code",
   "execution_count": 406,
   "metadata": {},
   "outputs": [],
   "source": [
    "t_test.drop('Survived', axis=1, inplace=True)\n",
    "t_test.drop('PassengerId', axis=1, inplace=True)"
   ]
  },
  {
   "cell_type": "code",
   "execution_count": 407,
   "metadata": {},
   "outputs": [],
   "source": [
    "pred = grid_mse2.predict(t_test)\n",
    "\n",
    "\n",
    "\n",
    "t_test['PassengerId'] = p_Id\n",
    "\n",
    "t_test['Survived'] = pred\n",
    "\n",
    "\n",
    "Kaggle_submit= t_test[['PassengerId', 'Survived']]\n"
   ]
  },
  {
   "cell_type": "code",
   "execution_count": 408,
   "metadata": {},
   "outputs": [
    {
     "data": {
      "text/plain": [
       "(418, 2)"
      ]
     },
     "execution_count": 408,
     "metadata": {},
     "output_type": "execute_result"
    }
   ],
   "source": [
    "Kaggle_submit.shape"
   ]
  },
  {
   "cell_type": "code",
   "execution_count": 409,
   "metadata": {},
   "outputs": [],
   "source": [
    "Kaggle_submit.to_csv('PythonKagglesub9', index =False)"
   ]
  }
 ],
 "metadata": {
  "kernelspec": {
   "display_name": "Python 3",
   "language": "python",
   "name": "python3"
  },
  "language_info": {
   "codemirror_mode": {
    "name": "ipython",
    "version": 3
   },
   "file_extension": ".py",
   "mimetype": "text/x-python",
   "name": "python",
   "nbconvert_exporter": "python",
   "pygments_lexer": "ipython3",
   "version": "3.6.3"
  }
 },
 "nbformat": 4,
 "nbformat_minor": 2
}
